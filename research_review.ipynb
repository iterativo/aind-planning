{
 "cells": [
  {
   "cell_type": "markdown",
   "metadata": {},
   "source": [
    "# Research Review\n",
    "\n",
    "## Abstract\n",
    "\n",
    "This research review is based on the research paper entitled **Improved Integer Programming Models and Heuristic Search for AI Planning** by (Yannis Dimopoulos 2001), as presented in this document: https://pdfs.semanticscholar.org/bfd1/c5f24348d7ec2e8df470005babaa68ddcb80.pdf\n",
    "\n",
    "This paper explores improvements to traditional propositional-logic-based AI Planning algorithms, and to initial work in introducing by Integer Programming into planning problem domains. \n",
    "\n",
    "## Background\n",
    "\n",
    "Integer Programming (IP) refers to a mathematical optimization or feasibility program in which some or all of the variables are restricted to integers (Source: https://en.wikipedia.org/wiki/Integer_programming). In essence, IP combines propositional logic with arithmetic, which allows for more compact representations of domain spaces. This allows IP to address some of the limitations encountered by propositional logic when it comes to representing more complex domain spaces. \n",
    "\n",
    "Vossen et al. introduced a domain-independent method for translating STRIPS problems into IP models (Vossen et al. 1999) which allows for parallel plan execution, thereby introducing new ways of optimality guarantees for solutions in terms of planning length.\n",
    "\n",
    "This paper also formulates an optimization to the Fast-Forward Planning System originally proposed by (Hoffmann and Nebel 2001).\n",
    "\n",
    "## Research Contribution / Improvements\n",
    "\n",
    "This paper improves previously proposed formulations for IP models by (Vossen et al. 1999), and it also links IP methods to more recent work performed on heuristic search in planning. The paper introduces 3 new contributions to the field of AI as described below.\n",
    "\n",
    "The research describes an improved formulation to the original domain-independent IP formulation of (Vossen et al. 1999). The formulation is based on a fluent representation that contains 4 variables: add, pre-add, pre-del, and maintain. Two proposed improvements aim at reducing the total number of variables needed by the IP model:\n",
    "\n",
    "- Improvement # 1: The first improvement described in the research deals with substituting out the \"add\" variable of a fluent.\n",
    "- Improvement # 2: The second improvement deals with eliminating the \"pre-add\" variable of a fluent.\n",
    "\n",
    "Moreover, the new formulation proposes that by analyzing the specific domain at hand, further optimizations can be achieved. Specifically, by identifying mutual exclusion relations between the operators and fluents of a domain, one can reduce the total number of state-change variables and the tightening of the constraints of the IP model. Such analysis is enabled by suitable domain analysis tools such as the one introduced by (Fox and Long 1998; Gerevini and Schubert 2000).\n",
    "\n",
    "Finally, the research deals with the optimization of search algorithms using heuristic search. One of the issues with algorithms that generate optimal plans, is that they don't scale well (as observed in this project's heuristic analysis). Heuristic search attempts to alleviate that.\n",
    "\n",
    "- Improvement # 3:  The research introduces a new heuristic based on a modification of the FF approach (Hoffmann and Nebel 2001). This heuristic is based on a new concept they call the Linear Relaxation (LR) approach, in which a new \"relaxed\" problem is obtained from the original problem representation by dropping the integrality constraint from the integer variables. Furthermore, the research proposes the use of a more efficient search method, which is a variant of the enforced hill-climbing introduced in FF.\n"
   ]
  }
 ],
 "metadata": {
  "kernelspec": {
   "display_name": "Python 3",
   "language": "python",
   "name": "python3"
  },
  "language_info": {
   "codemirror_mode": {
    "name": "ipython",
    "version": 3
   },
   "file_extension": ".py",
   "mimetype": "text/x-python",
   "name": "python",
   "nbconvert_exporter": "python",
   "pygments_lexer": "ipython3",
   "version": "3.6.0"
  }
 },
 "nbformat": 4,
 "nbformat_minor": 2
}
